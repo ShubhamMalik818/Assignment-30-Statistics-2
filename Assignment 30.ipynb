{
 "cells": [
  {
   "cell_type": "code",
   "execution_count": null,
   "id": "881d993c-5360-428b-925d-b6cee2085772",
   "metadata": {},
   "outputs": [],
   "source": [
    "1. What are the three measures of central tendency?"
   ]
  },
  {
   "cell_type": "code",
   "execution_count": null,
   "id": "81ab0fa1-3cc4-404c-ab7b-9f8b98b38def",
   "metadata": {},
   "outputs": [],
   "source": [
    "ANS- The three measures of central tendency are:\n",
    "\n",
    "    1. Mean: This is the most commonly used measure of central tendency. The mean is the sum of all values in a dataset divided by the \n",
    "             total number of values.\n",
    "\n",
    "    2. Median: The median is the middle value in a dataset when the values are arranged in order from lowest to highest. If there is an \n",
    "               even number of values, the median is the average of the two middle values.\n",
    "\n",
    "    3. Mode: The mode is the value that occurs most frequently in a dataset. If there are multiple values that occur with the same frequency, \n",
    "             then the dataset has multiple modes."
   ]
  },
  {
   "cell_type": "code",
   "execution_count": null,
   "id": "8dd9f963-518d-4b81-8e87-70a225730081",
   "metadata": {},
   "outputs": [],
   "source": [
    "2. What is the difference between the mean, median, and mode? How are they used to measure the central tendency of a dataset?"
   ]
  },
  {
   "cell_type": "code",
   "execution_count": null,
   "id": "7f8ea7e1-5982-42b9-82fd-cc2dadc85e0c",
   "metadata": {},
   "outputs": [],
   "source": [
    "ANS- The mean, median, and mode are all measures of central tendency, but they differ in how they represent the center of a dataset.\n",
    "\n",
    "    1. The mean is the sum of all values in a dataset divided by the total number of values. It represents the average value of the dataset \n",
    "       and is sensitive to outliers. \n",
    "        For example, if a dataset has a few very large values, the mean will be affected and may not represent the typical value of the dataset.\n",
    "\n",
    "    2. The median is the middle value in a dataset when the values are arranged in order from lowest to highest. It is not affected by outliers \n",
    "       and represents the middle value of the dataset. \n",
    "        For example, if a dataset has a few very large values, the median will not be affected and will still represent the typical value of the \n",
    "        dataset.\n",
    "\n",
    "    3. The mode is the value that occurs most frequently in a dataset. It represents the most common value in the dataset and is often used for \n",
    "       categorical data. \n",
    "        For example, the mode may be used to determine the most popular color or type of car sold in a particular region.\n",
    "\n",
    "All three measures of central tendency can be used to describe a dataset, but the choice of which one to use depends on the characteristics \n",
    "of the dataset and the question being asked. If the dataset has outliers or a skewed distribution, the median may be a better measure of \n",
    "central tendency than the mean. If the data is categorical, the mode may be the most appropriate measure of central tendency."
   ]
  },
  {
   "cell_type": "code",
   "execution_count": null,
   "id": "e88569a4-2296-4fd9-a7c9-97c67b2a8e4f",
   "metadata": {},
   "outputs": [],
   "source": [
    "3. Measure the three measures of central tendency for the given height data:\n",
    "    [178,177,176,177,178.2,178,175,179,180,175,178.9,176.2,177,172.5,178,176.5]"
   ]
  },
  {
   "cell_type": "code",
   "execution_count": null,
   "id": "27753bae-6d11-47a3-b131-e7e3c8c90e15",
   "metadata": {},
   "outputs": [],
   "source": [
    "ANS- To find the three measures of central tendency for the given height data, we can use the following formulas:\n",
    "\n",
    "Mean = (sum of all values) / (total number of values)\n",
    "\n",
    "Median = middle value of the dataset\n",
    "\n",
    "Mode = most common value in the dataset\n",
    "\n",
    "Mean:\n",
    "sum of all values = 2681.1\n",
    "total number of values = 15\n",
    "Mean = sum of all values / total number of values = 2681.1 / 15 ≈ 178.74\n",
    "\n",
    "Median:\n",
    "To find the median, we need to arrange the values in ascending order:\n",
    "[172.5, 175, 175, 176, 176.2, 176.5, 177, 177, 178, 178, 178, 178.2, 178.9, 179, 180]\n",
    "There are 15 values in this dataset, so the median is the average of the 7th and 8th values, which are both 177.\n",
    "\n",
    "Mode:\n",
    "The mode is the most common value in the dataset. In this case, there are two values that occur most frequently: 177 and 178. \n",
    "Both of these values appear three times in the dataset, so the dataset has two modes: 177 and 178.\n",
    "\n",
    "Therefore, the three measures of central tendency for the given height data are:\n",
    "\n",
    "Mean: 178.74\n",
    "Median: 177\n",
    "Mode: 177 and 178"
   ]
  },
  {
   "cell_type": "code",
   "execution_count": null,
   "id": "00287411-550c-4021-883c-ed4cf0acf19b",
   "metadata": {},
   "outputs": [],
   "source": [
    "4. Find the standard deviation for the given data:\n",
    "    [178,177,176,177,178.2,178,175,179,180,175,178.9,176.2,177,172.5,178,176.5]"
   ]
  },
  {
   "cell_type": "code",
   "execution_count": null,
   "id": "a7bf5ba5-d2b6-4ef2-b8f3-6462f52a7f46",
   "metadata": {},
   "outputs": [],
   "source": [
    "To find the standard deviation for the given data, we can use the following formula:\n",
    "\n",
    "s = sqrt [ Σ(xi - x̄)2 / (n - 1) ]\n",
    "\n",
    "where:\n",
    "\n",
    "s is the standard deviation\n",
    "xi is each individual value in the dataset\n",
    "x̄ is the mean of the dataset\n",
    "n is the total number of values in the dataset\n",
    "First, we need to calculate the mean of the dataset, which we found to be 178.74 in the previous question.\n",
    "\n",
    "Next, we can use the formula to calculate the standard deviation:\n",
    "\n",
    "s = sqrt [ Σ(xi - x̄)2 / (n - 1) ]\n",
    "\n",
    "s = sqrt [ ((178-178.74)2 + (177-178.74)2 + (176-178.74)2 + (177-178.74)2 + (178.2-178.74)2 + (178-178.74)2 + (175-178.74)2 \n",
    "            + (179-178.74)2 + (180-178.74)2 + (175-178.74)2 + (178.9-178.74)2 + (176.2-178.74)2 + (177-178.74)2 + (172.5-178.74)2 \n",
    "            + (178-178.74)2 + (176.5-178.74)2) / (15 - 1)]\n",
    "\n",
    "s = sqrt [ (105.1664 + 3.0276 + 7.0276 + 3.0276 + 0.0276 + 0.0576 + 11.0576 + 0.0676 + 2.8676 + 11.0576 + 0.0225 + 6.9156 + 3.0276 \n",
    "            + 33.6225 + 0.0576 + 4.1025) / 14 ]\n",
    "\n",
    "s = sqrt [ 206.5286 / 14 ]\n",
    "\n",
    "s = sqrt [ 14.75204 ]\n",
    "\n",
    "s ≈ 3.842\n",
    "\n",
    "Therefore, the standard deviation for the given data is approximately 3.842"
   ]
  },
  {
   "cell_type": "code",
   "execution_count": null,
   "id": "f4389ffe-12f6-4834-9c98-c835250dfa76",
   "metadata": {},
   "outputs": [],
   "source": [
    "5. How are measures of dispersion such as range, variance, and standard deviation used to describe the spread of a dataset? Provide an example."
   ]
  },
  {
   "cell_type": "code",
   "execution_count": null,
   "id": "5095d477-d01a-4b2d-8cff-b97e24e47649",
   "metadata": {},
   "outputs": [],
   "source": [
    "ANS- Measures of dispersion such as range, variance, and standard deviation are used to describe the spread or variability of a dataset.\n",
    "\n",
    "   1. Range is the simplest measure of dispersion and is calculated as the difference between the highest and lowest values in the dataset. \n",
    "      It gives an idea about how much the data values are dispersed from one another.\n",
    "\n",
    "    2. Variance and standard deviation, on the other hand, are more sophisticated measures of dispersion that take into account all the data points \n",
    "       in the dataset. Variance is the average of the squared differences of each data point from the mean, \n",
    "        while standard deviation is the square root of the variance. \n",
    "    Standard deviation is often preferred over variance because it is in the same units as the original data.\n",
    "\n",
    "For example, let consider two datasets of test scores for two different classes:\n",
    "\n",
    "Class A: 60, 65, 70, 75, 80\n",
    "Class B: 50, 60, 70, 80, 90\n",
    "\n",
    "The range for both datasets is 20, which means that the difference between the highest and lowest scores is the same for both classes. \n",
    "However, the variance and standard deviation for both datasets are different, indicating that the scores in the two classes are not equally dispersed.\n",
    "\n",
    "For Class A, the mean score is 70, the variance is 62.5, and the standard deviation is 7.91. \n",
    "This means that the scores are tightly clustered around the mean with very little variability.\n",
    "\n",
    "For Class B, the mean score is 70, the variance is 166.7, and the standard deviation is 12.91. \n",
    "This indicates that the scores are more spread out, with more variability than in Class A.\n",
    "\n",
    "In this way, measures of dispersion provide additional information about a dataset beyond the measures of central tendency like mean, median, and mode. \n",
    "They help to understand how much the data points deviate from each other, and how they are distributed around the central tendency."
   ]
  },
  {
   "cell_type": "code",
   "execution_count": null,
   "id": "9084238b-7cbf-4d7e-94ae-c3d97d38f410",
   "metadata": {},
   "outputs": [],
   "source": [
    "6. What is a Venn diagram?"
   ]
  },
  {
   "cell_type": "code",
   "execution_count": null,
   "id": "6d4aee86-2e27-4cfc-b833-8eacb0a0da4e",
   "metadata": {},
   "outputs": [],
   "source": [
    "ANS- A Venn diagram is a graphical representation of set relationships. It is a diagram consisting of overlapping circles or other closed shapes\n",
    "     that are used to represent sets and their relationships to each other. Each circle or shape represents a set, and the overlapping regions \n",
    "     represent the intersection of the sets.\n",
    "\n",
    "For example,\n",
    "\n",
    "There are three sets, A, B, and C. The circle labeled A represents the set of all elements that belong to A, \n",
    "the circle labeled B represents the set of all elements that belong to B, and the circle labeled C represents the set of all elements that belong to C. \n",
    "The overlapping regions between the circles represent the elements that belong to two or more sets.\n",
    "\n",
    "The area inside all three circles represents the elements that belong to all three sets, while the area inside the circles for A and B, B and C, \n",
    "and A and C represents the elements that belong to the intersection of those two sets. The areas inside the circles that are not overlapping \n",
    "with any other circle represent the elements that belong only to that particular set.\n",
    "\n",
    "Venn diagrams are commonly used in mathematics, logic, statistics, and other fields to illustrate relationships between sets and to solve \n",
    "problems involving set theory."
   ]
  },
  {
   "cell_type": "code",
   "execution_count": null,
   "id": "80756772-9380-4ab7-99a2-343739565f11",
   "metadata": {},
   "outputs": [],
   "source": [
    "8. What do you understand about skewness in data?"
   ]
  },
  {
   "cell_type": "code",
   "execution_count": null,
   "id": "0f600fc5-544f-42c9-86df-130001679dc1",
   "metadata": {},
   "outputs": [],
   "source": [
    "ANS- Skewness is a statistical measure that describes the asymmetry of a probability distribution. In other words, skewness measures the degree \n",
    "     to which a dataset deviates from a normal distribution, which is symmetric.\n",
    "\n",
    "A dataset is said to be skewed if it is not symmetric. A positive skewness means that the dataset has a longer tail on the right side and \n",
    "a majority of the observations are on the left side of the mean. \n",
    "On the other hand, a negative skewness means that the dataset has a longer tail on the left side and a majority of the observations are on the \n",
    "right side of the mean.\n",
    "\n",
    "For example, consider the following datasets:\n",
    "\n",
    "Dataset 1: [1, 2, 2, 3, 4, 4, 4, 4, 5, 6]\n",
    "\n",
    "Dataset 2: [1, 2, 3, 4, 5, 6, 7, 8, 9, 10]\n",
    "\n",
    "Dataset 1 has a positive skewness, as there are more observations on the left side of the mean (which is around 3.5) and a long tail on the right side. \n",
    "Dataset 2, on the other hand, is approximately symmetric and has no skewness.\n",
    "\n",
    "Skewness is an important aspect of data analysis because it affects the way we interpret the data. \n",
    "For example, if the data is positively skewed, the mean will be greater than the median, indicating that the data is pulled towards the right side. \n",
    "\n",
    "Conversely, if the data is negatively skewed, the mean will be less than the median, indicating that the data is pulled towards the left side. \n",
    "\n",
    "Therefore, it is important to consider skewness when interpreting data and choosing appropriate statistical methods."
   ]
  },
  {
   "cell_type": "code",
   "execution_count": null,
   "id": "bc580c12-7c86-4058-85c0-b5bcf4c0bfb8",
   "metadata": {},
   "outputs": [],
   "source": [
    "9. If a data is right skewed then what will be the position of median with respect to mean?"
   ]
  },
  {
   "cell_type": "code",
   "execution_count": null,
   "id": "42f7bf9b-28da-45d1-b3cd-d4e7f1e68307",
   "metadata": {},
   "outputs": [],
   "source": [
    "ANS- If a dataset is right skewed, the median will be less than the mean. This is because the mean is affected by extreme values in the \n",
    "     right tail of the distribution, which pull the mean towards the right side, while the median is not affected by the extreme values and \n",
    "     is located closer to the center of the distribution.\n",
    "\n",
    "In a right skewed distribution, the majority of the data is located on the left side, while the right tail is longer and has fewer observations. \n",
    "As a result, the median is closer to the left side of the distribution, where most of the data is located, while the mean is pulled towards the \n",
    "right side, where the extreme values are located. \n",
    "Therefore, the median will be less than the mean in a right skewed distribution."
   ]
  },
  {
   "cell_type": "code",
   "execution_count": null,
   "id": "acc936e0-f6ea-44fe-8a10-2207c66e53cd",
   "metadata": {},
   "outputs": [],
   "source": [
    "10. Explain the difference between covariance and correlation. How are these measures used in statistical analysis?"
   ]
  },
  {
   "cell_type": "code",
   "execution_count": null,
   "id": "c6b6d1e0-332d-4c69-a132-28fb0ab981cc",
   "metadata": {},
   "outputs": [],
   "source": [
    "ANS- Covariance and correlation are both measures of the relationship between two variables in a dataset. However, there are some differences \n",
    "     between them:\n",
    "\n",
    "1. Covariance:\n",
    "\n",
    "It measures the direction and magnitude of the linear relationship between two variables.\n",
    "It measures how much two variables change together, in the same direction or in opposite directions.\n",
    "It can take on any value, positive, negative or zero.\n",
    "It is affected by the scale of the variables and is not normalized.\n",
    "\n",
    "\n",
    "Correlation:\n",
    "\n",
    "It measures the strength and direction of the linear relationship between two variables.\n",
    "It measures how much two variables change together, in the same direction or in opposite directions.\n",
    "It ranges from -1 to 1, where -1 represents a perfect negative correlation, 0 represents no correlation, and 1 represents a perfect positive \n",
    "correlation.\n",
    "It is not affected by the scale of the variables and is normalized.\n",
    "\n",
    "In statistical analysis, covariance and correlation are used to study the relationship between two variables in a dataset. \n",
    "They can help to identify patterns, make predictions and provide insights into how one variable affects another.\n",
    "\n",
    "Covariance can be used to determine the direction of the relationship between two variables. If the covariance is positive, it indicates that \n",
    "the two variables tend to move in the same direction, while if it is negative, it indicates that the two variables tend to move in opposite directions. \n",
    "\n",
    "However, covariance does not provide information on the strength of the relationship or the degree of dependence between the two variables.\n",
    "\n",
    "Correlation, on the other hand, measures the strength and direction of the linear relationship between two variables. It is a more useful measure \n",
    "than covariance because it is normalized and standardized, allowing for easier interpretation of the relationship between the two variables. \n",
    "A correlation coefficient of 0 indicates no relationship, while a correlation coefficient of 1 or -1 indicates a strong relationship between the \n",
    "two variables. Correlation can also be used to make predictions and estimate the impact of one variable on another."
   ]
  },
  {
   "cell_type": "code",
   "execution_count": null,
   "id": "15a6e06c-b4c5-4f60-b7da-a2f5d50183f4",
   "metadata": {},
   "outputs": [],
   "source": [
    "11. What is the formula for calculating the sample mean? Provide an example calculation for a dataset."
   ]
  },
  {
   "cell_type": "code",
   "execution_count": null,
   "id": "3bd8ca24-0409-4c5f-a3d9-b82dfe279682",
   "metadata": {},
   "outputs": [],
   "source": [
    "ANS- The formula for calculating the sample mean is:\n",
    "\n",
    "x̄ = (Σ xi) / n\n",
    "\n",
    "Where x̄ is the sample mean, Σ xi is the sum of all observations in the dataset, and n is the number of observations.\n",
    "\n",
    "Here is an example calculation of the sample mean for a dataset:\n",
    "\n",
    "Dataset: [10, 12, 8, 15, 20, 18, 14, 16]\n",
    "\n",
    "Step 1: Find the sum of all observations in the dataset\n",
    "Σ xi = 10 + 12 + 8 + 15 + 20 + 18 + 14 + 16 = 113\n",
    "\n",
    "Step 2: Count the number of observations in the dataset\n",
    "n = 8\n",
    "\n",
    "Step 3: Use the formula to calculate the sample mean\n",
    "x̄ = Σ xi / n = 113 / 8 = 14.125\n",
    "\n",
    "Therefore, the sample mean for this dataset is 14.125."
   ]
  },
  {
   "cell_type": "code",
   "execution_count": null,
   "id": "d4ef7801-acaa-4a15-addb-0b800c17ca52",
   "metadata": {},
   "outputs": [],
   "source": [
    "12. For a normal distribution data what is the relationship between its measure of central tendency?"
   ]
  },
  {
   "cell_type": "code",
   "execution_count": null,
   "id": "ae3b8708-3b0b-4d2b-8769-b31d38cff660",
   "metadata": {},
   "outputs": [],
   "source": [
    "ANS- For a normal distribution, the mean, median, and mode are all equal and located at the center of the distribution. This is because \n",
    "the normal distribution is symmetric around its mean, and its shape is bell-shaped, which means that the same number of observations fall on \n",
    "either side of the mean.\n",
    "\n",
    "Therefore, the mean, median, and mode are all measures of central tendency that describe the central location of the distribution. They all \n",
    "provide information about the typical or average value in the dataset, and they are all useful in different contexts. \n",
    "For example, the mean is a useful measure of central tendency when the distribution is approximately normal and has no extreme values, \n",
    "while the median is more useful when the distribution is skewed or has outliers. \n",
    "The mode, on the other hand, is a useful measure when we want to know the most common value in the dataset."
   ]
  },
  {
   "cell_type": "code",
   "execution_count": null,
   "id": "6b005daa-95a5-4ff6-9d20-8800dd6bc1e8",
   "metadata": {},
   "outputs": [],
   "source": [
    "13. How is covariance different from correlation?"
   ]
  },
  {
   "cell_type": "code",
   "execution_count": null,
   "id": "8803fe6a-df0b-451f-b8e5-2ef26d306678",
   "metadata": {},
   "outputs": [],
   "source": [
    "ANS- Covariance and correlation are two measures of the relationship between two variables. Although they are both used to describe the strength \n",
    "     and direction of the relationship between variables, there are some differences between them:\n",
    "\n",
    "    1. Definition: Covariance measures the extent to which two variables change in a similar way. \n",
    "                   Correlation, on the other hand, measures the strength and direction of the linear relationship between two variables.\n",
    "\n",
    "    2. Range: The range of covariance is not bounded, and its values can range from negative infinity to positive infinity. \n",
    "              The range of correlation, however, is bounded between -1 and 1.\n",
    "\n",
    "    3. Standardization: Covariance is not standardized, and its value depends on the units of measurement of the variables. \n",
    "                        Correlation, on the other hand, is standardized, and its value is independent of the units of measurement.\n",
    "\n",
    "    4. Interpretation: Covariance is difficult to interpret because its value is affected by the scale of the variables. \n",
    "                       Correlation, on the other hand, is more easily interpreted because it is a standardized measure that ranges between -1 and 1.\n",
    "\n",
    "    5. Significance: Covariance does not provide any information about the significance of the relationship between variables. \n",
    "                     Correlation, however, provides information about the strength and direction of the relationship, as well as \n",
    "                     its statistical significance.\n",
    "\n",
    "In summary, covariance and correlation are both measures of the relationship between two variables, but correlation is a more useful measure \n",
    "because it is standardized and provides more interpretable information about the strength and significance of the relationship between variables."
   ]
  },
  {
   "cell_type": "code",
   "execution_count": null,
   "id": "cab875fc-ec13-4036-8866-56ccb41e3e0b",
   "metadata": {},
   "outputs": [],
   "source": [
    "14. How do outliers affect measures of central tendency and dispersion? Provide an example."
   ]
  },
  {
   "cell_type": "code",
   "execution_count": null,
   "id": "5ce4171a-98a3-49d0-b1bf-fbffe7c40b0b",
   "metadata": {},
   "outputs": [],
   "source": [
    "ANS- Outliers are extreme values that are significantly different from other values in a dataset. Outliers can have a significant impact on \n",
    "     measures of central tendency and dispersion, as they can skew the results and make them less representative of the overall dataset.\n",
    "\n",
    "For example, consider the following dataset of test scores for a group of students:\n",
    "\n",
    "[70, 72, 75, 78, 80, 82, 85, 90, 92, 95]\n",
    "\n",
    "The mean of this dataset is 81.9, the median is 81, and the standard deviation is 8.3. \n",
    "\n",
    "Now, suppose we add an outlier score of 50 to the dataset:\n",
    "\n",
    "[70, 72, 75, 78, 80, 82, 85, 90, 92, 95, 50]\n",
    "\n",
    "The mean of this dataset is now 77.3, the median is still 81, but the standard deviation has increased to 14.9. \n",
    "The outlier score of 50 has significantly reduced the mean and increased the standard deviation of the dataset, making it less representative of the overall scores of the students.\n",
    "\n",
    "Similarly, if we add an outlier score of 100 to the dataset:\n",
    "\n",
    "[70, 72, 75, 78, 80, 82, 85, 90, 92, 95, 100]"
   ]
  },
  {
   "cell_type": "code",
   "execution_count": null,
   "id": "cbbad0ae-a9cd-47cd-8543-29da2ab34130",
   "metadata": {},
   "outputs": [],
   "source": []
  },
  {
   "cell_type": "code",
   "execution_count": null,
   "id": "561ff4b0-5b65-441a-a3cd-b88383d468cf",
   "metadata": {},
   "outputs": [],
   "source": []
  }
 ],
 "metadata": {
  "kernelspec": {
   "display_name": "Python 3 (ipykernel)",
   "language": "python",
   "name": "python3"
  },
  "language_info": {
   "codemirror_mode": {
    "name": "ipython",
    "version": 3
   },
   "file_extension": ".py",
   "mimetype": "text/x-python",
   "name": "python",
   "nbconvert_exporter": "python",
   "pygments_lexer": "ipython3",
   "version": "3.10.8"
  }
 },
 "nbformat": 4,
 "nbformat_minor": 5
}
